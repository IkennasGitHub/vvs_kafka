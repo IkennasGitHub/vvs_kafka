{
 "cells": [
  {
   "cell_type": "code",
   "execution_count": 2,
   "id": "6ba9f9f2-b08f-4291-bb09-0526011474b0",
   "metadata": {},
   "outputs": [
    {
     "name": "stdout",
     "output_type": "stream",
     "text": [
      "Collecting vvspyNote: you may need to restart the kernel to use updated packages.\n",
      "\n",
      "  Downloading vvspy-2.2.0-py3-none-any.whl.metadata (5.8 kB)\n",
      "Requirement already satisfied: requests in c:\\users\\ikenn\\anaconda3\\lib\\site-packages (from vvspy) (2.31.0)\n",
      "Collecting typing (from vvspy)\n",
      "  Downloading typing-3.7.4.3.tar.gz (78 kB)\n",
      "     ---------------------------------------- 0.0/78.6 kB ? eta -:--:--\n",
      "     -------------- ----------------------- 30.7/78.6 kB 660.6 kB/s eta 0:00:01\n",
      "     -------------- ----------------------- 30.7/78.6 kB 660.6 kB/s eta 0:00:01\n",
      "     -------------------------------------- 78.6/78.6 kB 627.1 kB/s eta 0:00:00\n",
      "  Preparing metadata (setup.py): started\n",
      "  Preparing metadata (setup.py): finished with status 'done'\n",
      "Requirement already satisfied: charset-normalizer<4,>=2 in c:\\users\\ikenn\\anaconda3\\lib\\site-packages (from requests->vvspy) (2.0.4)\n",
      "Requirement already satisfied: idna<4,>=2.5 in c:\\users\\ikenn\\anaconda3\\lib\\site-packages (from requests->vvspy) (3.4)\n",
      "Requirement already satisfied: urllib3<3,>=1.21.1 in c:\\users\\ikenn\\anaconda3\\lib\\site-packages (from requests->vvspy) (2.0.7)\n",
      "Requirement already satisfied: certifi>=2017.4.17 in c:\\users\\ikenn\\anaconda3\\lib\\site-packages (from requests->vvspy) (2024.2.2)\n",
      "Downloading vvspy-2.2.0-py3-none-any.whl (260 kB)\n",
      "   ---------------------------------------- 0.0/260.8 kB ? eta -:--:--\n",
      "   - -------------------------------------- 10.2/260.8 kB ? eta -:--:--\n",
      "   - -------------------------------------- 10.2/260.8 kB ? eta -:--:--\n",
      "   ------------ -------------------------- 81.9/260.8 kB 919.0 kB/s eta 0:00:01\n",
      "   ------------ -------------------------- 81.9/260.8 kB 919.0 kB/s eta 0:00:01\n",
      "   ---------------- --------------------- 112.6/260.8 kB 595.3 kB/s eta 0:00:01\n",
      "   ---------------- --------------------- 112.6/260.8 kB 595.3 kB/s eta 0:00:01\n",
      "   -------------------------------------  256.0/260.8 kB 827.5 kB/s eta 0:00:01\n",
      "   -------------------------------------- 260.8/260.8 kB 800.5 kB/s eta 0:00:00\n",
      "Building wheels for collected packages: typing\n",
      "  Building wheel for typing (setup.py): started\n",
      "  Building wheel for typing (setup.py): finished with status 'done'\n",
      "  Created wheel for typing: filename=typing-3.7.4.3-py3-none-any.whl size=26325 sha256=0981e24bc1a06a1aad34cdd2e510343b714e05ddc066dcbe0320fd2453363ab6\n",
      "  Stored in directory: c:\\users\\ikenn\\appdata\\local\\pip\\cache\\wheels\\9d\\67\\2f\\53e3ef32ec48d11d7d60245255e2d71e908201d20c880c08ee\n",
      "Successfully built typing\n",
      "Installing collected packages: typing, vvspy\n",
      "Successfully installed typing-3.7.4.3 vvspy-2.2.0\n"
     ]
    }
   ],
   "source": [
    "pip install vvspy"
   ]
  },
  {
   "cell_type": "code",
   "execution_count": 9,
   "id": "cfc80e2a-4b46-4f46-be44-3b3c119b0eb9",
   "metadata": {},
   "outputs": [
    {
     "name": "stdout",
     "output_type": "stream",
     "text": [
      "Alarm! Delay detected.\n",
      "[Delayed] [15:34] [S6]: Weil der Stadt - Schwabstraße\n",
      "Alarm! Delay detected.\n",
      "[Delayed] [15:34] [S60]: Böblingen - Schwabstraße\n",
      "Alarm! Delay detected.\n",
      "[Delayed] [15:34] [S5]: Schwabstraße - Bietigheim-Bissingen\n"
     ]
    }
   ],
   "source": [
    "from vvspy import get_departures\n",
    "from vvspy.enums import Station\n",
    "\n",
    "deps = get_departures(Station.HAUPTBAHNHOF__TIEF, limit=3)\n",
    "for dep in deps:\n",
    "    if dep.delay > 0:\n",
    "        print(\"Alarm! Delay detected.\")\n",
    "        print(dep)  # [Delayed] [11:47] [RB17]: Stuttgart Hauptbahnhof (oben) - Pforzheim Hauptbahnhof\n",
    "\n",
    "    else:\n",
    "        print(\"Train on time\")\n",
    "        print(dep)  # [11:47] [RB17]: Stuttgart Hauptbahnhof (oben) - Pforzheim Hauptbahnhof"
   ]
  },
  {
   "cell_type": "code",
   "execution_count": null,
   "id": "4b3733f9-319e-413f-a934-d0b62114784f",
   "metadata": {},
   "outputs": [],
   "source": []
  }
 ],
 "metadata": {
  "kernelspec": {
   "display_name": "Python 3 (ipykernel)",
   "language": "python",
   "name": "python3"
  },
  "language_info": {
   "codemirror_mode": {
    "name": "ipython",
    "version": 3
   },
   "file_extension": ".py",
   "mimetype": "text/x-python",
   "name": "python",
   "nbconvert_exporter": "python",
   "pygments_lexer": "ipython3",
   "version": "3.11.7"
  }
 },
 "nbformat": 4,
 "nbformat_minor": 5
}
